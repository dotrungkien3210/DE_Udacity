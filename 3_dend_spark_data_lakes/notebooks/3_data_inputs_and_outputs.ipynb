{
 "cells": [
  {
   "cell_type": "markdown",
   "metadata": {},
   "source": [
    "# Reading and Writing Data with Spark\n",
    "\n",
    "This notebook contains the code from the previous screencast. The only difference is that instead of reading in a dataset from a remote cluster, the data set is read in from a local file. You can see the file by clicking on the \"jupyter\" icon and opening the folder titled \"data\".\n",
    "\n",
    "Run the code cell to see how everything works. \n",
    "\n",
    "First let's import SparkConf and SparkSession"
   ]
  },
  {
   "cell_type": "code",
   "execution_count": 1,
   "metadata": {},
   "outputs": [],
   "source": [
    "import pyspark\n",
    "from pyspark import SparkConf\n",
    "from pyspark.sql import SparkSession"
   ]
  },
  {
   "cell_type": "markdown",
   "metadata": {},
   "source": [
    "Since we're using Spark locally we already have both a sparkcontext and a sparksession running. We can update some of the parameters, such our application's name. Let's just call it \"Our first Python Spark SQL example\""
   ]
  },
  {
   "cell_type": "code",
   "execution_count": 2,
   "metadata": {},
   "outputs": [],
   "source": [
    "spark = SparkSession \\\n",
    "    .builder \\\n",
    "    .appName(\"Our first Python Spark SQL example\") \\\n",
    "    .getOrCreate()"
   ]
  },
  {
   "cell_type": "markdown",
   "metadata": {},
   "source": [
    "Let's check if the change went through"
   ]
  },
  {
   "cell_type": "code",
   "execution_count": 3,
   "metadata": {},
   "outputs": [
    {
     "data": {
      "text/plain": [
       "[('spark.app.startTime', '1639479105141'),\n",
       " ('spark.app.id', 'local-1639479106992'),\n",
       " ('spark.sql.warehouse.dir',\n",
       "  'file:/C:/zlab/Data-engineering-nanodegree-master/3_dend_spark_data_lakes/notebooks/spark-warehouse'),\n",
       " ('spark.driver.port', '12684'),\n",
       " ('spark.executor.id', 'driver'),\n",
       " ('spark.app.name', 'PySparkShell'),\n",
       " ('spark.sql.catalogImplementation', 'hive'),\n",
       " ('spark.rdd.compress', 'True'),\n",
       " ('spark.serializer.objectStreamReset', '100'),\n",
       " ('spark.master', 'local[*]'),\n",
       " ('spark.submit.pyFiles', ''),\n",
       " ('spark.submit.deployMode', 'client'),\n",
       " ('spark.driver.host', 'Admin.mshome.net'),\n",
       " ('spark.ui.showConsoleProgress', 'true')]"
      ]
     },
     "execution_count": 3,
     "metadata": {},
     "output_type": "execute_result"
    }
   ],
   "source": [
    "spark.sparkContext.getConf().getAll()"
   ]
  },
  {
   "cell_type": "code",
   "execution_count": 4,
   "metadata": {},
   "outputs": [
    {
     "data": {
      "text/html": [
       "\n",
       "            <div>\n",
       "                <p><b>SparkSession - hive</b></p>\n",
       "                \n",
       "        <div>\n",
       "            <p><b>SparkContext</b></p>\n",
       "\n",
       "            <p><a href=\"http://Admin.mshome.net:4040\">Spark UI</a></p>\n",
       "\n",
       "            <dl>\n",
       "              <dt>Version</dt>\n",
       "                <dd><code>v3.1.2</code></dd>\n",
       "              <dt>Master</dt>\n",
       "                <dd><code>local[*]</code></dd>\n",
       "              <dt>AppName</dt>\n",
       "                <dd><code>PySparkShell</code></dd>\n",
       "            </dl>\n",
       "        </div>\n",
       "        \n",
       "            </div>\n",
       "        "
      ],
      "text/plain": [
       "<pyspark.sql.session.SparkSession at 0x21651b59940>"
      ]
     },
     "execution_count": 4,
     "metadata": {},
     "output_type": "execute_result"
    }
   ],
   "source": [
    "spark"
   ]
  },
  {
   "cell_type": "markdown",
   "metadata": {},
   "source": [
    "As you can see the app name is exactly how we set it\n",
    "\n",
    "Let's create our first dataframe from a fairly small sample data set. Througout the course we'll work with a log file data set that describes user interactions with a music streaming service. The records describe events such as logging in to the site, visiting a page, listening to the next song, seeing an ad."
   ]
  },
  {
   "cell_type": "code",
   "execution_count": 5,
   "metadata": {},
   "outputs": [],
   "source": [
    "path = \"../data/sparkify_log_small.json\"\n",
    "user_log = spark.read.json(path)"
   ]
  },
  {
   "cell_type": "code",
   "execution_count": 6,
   "metadata": {},
   "outputs": [
    {
     "name": "stdout",
     "output_type": "stream",
     "text": [
      "root\n",
      " |-- artist: string (nullable = true)\n",
      " |-- auth: string (nullable = true)\n",
      " |-- firstName: string (nullable = true)\n",
      " |-- gender: string (nullable = true)\n",
      " |-- itemInSession: long (nullable = true)\n",
      " |-- lastName: string (nullable = true)\n",
      " |-- length: double (nullable = true)\n",
      " |-- level: string (nullable = true)\n",
      " |-- location: string (nullable = true)\n",
      " |-- method: string (nullable = true)\n",
      " |-- page: string (nullable = true)\n",
      " |-- registration: long (nullable = true)\n",
      " |-- sessionId: long (nullable = true)\n",
      " |-- song: string (nullable = true)\n",
      " |-- status: long (nullable = true)\n",
      " |-- ts: long (nullable = true)\n",
      " |-- userAgent: string (nullable = true)\n",
      " |-- userId: string (nullable = true)\n",
      "\n"
     ]
    }
   ],
   "source": [
    "user_log.printSchema()"
   ]
  },
  {
   "cell_type": "code",
   "execution_count": 7,
   "metadata": {},
   "outputs": [
    {
     "data": {
      "text/plain": [
       "DataFrame[summary: string, artist: string, auth: string, firstName: string, gender: string, itemInSession: string, lastName: string, length: string, level: string, location: string, method: string, page: string, registration: string, sessionId: string, song: string, status: string, ts: string, userAgent: string, userId: string]"
      ]
     },
     "execution_count": 7,
     "metadata": {},
     "output_type": "execute_result"
    }
   ],
   "source": [
    "user_log.describe()"
   ]
  },
  {
   "cell_type": "code",
   "execution_count": 8,
   "metadata": {},
   "outputs": [
    {
     "name": "stdout",
     "output_type": "stream",
     "text": [
      "+-------------+---------+---------+------+-------------+--------+---------+-----+--------------------+------+--------+-------------+---------+--------------------+------+-------------+--------------------+------+\n",
      "|       artist|     auth|firstName|gender|itemInSession|lastName|   length|level|            location|method|    page| registration|sessionId|                song|status|           ts|           userAgent|userId|\n",
      "+-------------+---------+---------+------+-------------+--------+---------+-----+--------------------+------+--------+-------------+---------+--------------------+------+-------------+--------------------+------+\n",
      "|Showaddywaddy|Logged In|  Kenneth|     M|          112|Matthews|232.93342| paid|Charlotte-Concord...|   PUT|NextSong|1509380319284|     5132|Christmas Tears W...|   200|1513720872284|\"Mozilla/5.0 (Win...|  1046|\n",
      "+-------------+---------+---------+------+-------------+--------+---------+-----+--------------------+------+--------+-------------+---------+--------------------+------+-------------+--------------------+------+\n",
      "only showing top 1 row\n",
      "\n"
     ]
    }
   ],
   "source": [
    "user_log.show(n=1)"
   ]
  },
  {
   "cell_type": "code",
   "execution_count": 9,
   "metadata": {},
   "outputs": [
    {
     "data": {
      "text/plain": [
       "[Row(artist='Showaddywaddy', auth='Logged In', firstName='Kenneth', gender='M', itemInSession=112, lastName='Matthews', length=232.93342, level='paid', location='Charlotte-Concord-Gastonia, NC-SC', method='PUT', page='NextSong', registration=1509380319284, sessionId=5132, song='Christmas Tears Will Fall', status=200, ts=1513720872284, userAgent='\"Mozilla/5.0 (Windows NT 6.1) AppleWebKit/537.36 (KHTML, like Gecko) Chrome/36.0.1985.125 Safari/537.36\"', userId='1046'),\n",
       " Row(artist='Lily Allen', auth='Logged In', firstName='Elizabeth', gender='F', itemInSession=7, lastName='Chase', length=195.23873, level='free', location='Shreveport-Bossier City, LA', method='PUT', page='NextSong', registration=1512718541284, sessionId=5027, song='Cheryl Tweedy', status=200, ts=1513720878284, userAgent='\"Mozilla/5.0 (Windows NT 6.1) AppleWebKit/537.36 (KHTML, like Gecko) Chrome/36.0.1985.143 Safari/537.36\"', userId='1000'),\n",
       " Row(artist='Cobra Starship Featuring Leighton Meester', auth='Logged In', firstName='Vera', gender='F', itemInSession=6, lastName='Blackwell', length=196.20526, level='paid', location='Racine, WI', method='PUT', page='NextSong', registration=1499855749284, sessionId=5516, song='Good Girls Go Bad (Feat.Leighton Meester) (Album Version)', status=200, ts=1513720881284, userAgent='\"Mozilla/5.0 (Macintosh; Intel Mac OS X 10_9_4) AppleWebKit/537.78.2 (KHTML, like Gecko) Version/7.0.6 Safari/537.78.2\"', userId='2219'),\n",
       " Row(artist='Alex Smoke', auth='Logged In', firstName='Sophee', gender='F', itemInSession=8, lastName='Barker', length=405.99465, level='paid', location='San Luis Obispo-Paso Robles-Arroyo Grande, CA', method='PUT', page='NextSong', registration=1513009647284, sessionId=2372, song=\"Don't See The Point\", status=200, ts=1513720905284, userAgent='\"Mozilla/5.0 (Windows NT 6.1; WOW64) AppleWebKit/537.36 (KHTML, like Gecko) Chrome/36.0.1985.143 Safari/537.36\"', userId='2373'),\n",
       " Row(artist=None, auth='Logged In', firstName='Jordyn', gender='F', itemInSession=0, lastName='Jones', length=None, level='free', location='Syracuse, NY', method='GET', page='Home', registration=1513648531284, sessionId=1746, song=None, status=200, ts=1513720913284, userAgent='\"Mozilla/5.0 (Macintosh; Intel Mac OS X 10_9_4) AppleWebKit/537.36 (KHTML, like Gecko) Chrome/37.0.2062.94 Safari/537.36\"', userId='1747')]"
      ]
     },
     "execution_count": 9,
     "metadata": {},
     "output_type": "execute_result"
    }
   ],
   "source": [
    "user_log.take(5)"
   ]
  },
  {
   "cell_type": "code",
   "execution_count": 10,
   "metadata": {},
   "outputs": [],
   "source": [
    "out_path = \"../data/sparkify_log_small.csv\""
   ]
  },
  {
   "cell_type": "code",
   "execution_count": 11,
   "metadata": {},
   "outputs": [
    {
     "name": "stdout",
     "output_type": "stream",
     "text": [
      "<class 'pyspark.sql.dataframe.DataFrame'>\n"
     ]
    }
   ],
   "source": [
    "print(type(user_log))"
   ]
  },
  {
   "cell_type": "code",
   "execution_count": 12,
   "metadata": {},
   "outputs": [
    {
     "name": "stdout",
     "output_type": "stream",
     "text": [
      "                                         artist        auth  firstName gender  \\\n",
      "0                                 Showaddywaddy   Logged In    Kenneth      M   \n",
      "1                                    Lily Allen   Logged In  Elizabeth      F   \n",
      "2     Cobra Starship Featuring Leighton Meester   Logged In       Vera      F   \n",
      "3                                    Alex Smoke   Logged In     Sophee      F   \n",
      "4                                          None   Logged In     Jordyn      F   \n",
      "5                                          None   Logged In     Jordyn      F   \n",
      "6                                        Redman   Logged In      Paige      F   \n",
      "7                               Ulrich Schnauss   Logged In    Gabriel      M   \n",
      "8                                          None   Logged In      Mason      M   \n",
      "9                                          None   Logged In  Alexander      M   \n",
      "10                                        Jay-Z   Logged In    Micheal      M   \n",
      "11                                  Evanescence   Logged In      Mason      M   \n",
      "12                              Scissor Sisters   Logged In     Justin      M   \n",
      "13                                 3 Doors Down   Logged In       Zoie      F   \n",
      "14                                George Younce   Logged In    Malachi      M   \n",
      "15                                       Aly-Us   Logged In       Vera      F   \n",
      "16                                         None   Logged In     Justin      M   \n",
      "17                                     BjÃÂ¶rk   Logged In      Elena      F   \n",
      "18                               David Bromberg   Logged In  Alexander      M   \n",
      "19                                   Nickelback   Logged In    Abigail      F   \n",
      "20                                Darius Rucker   Logged In    Kenneth      M   \n",
      "21                                Mayday Parade   Logged In      Paige      F   \n",
      "22                                 Simple Minds   Logged In      Ryder      M   \n",
      "23                                         None   Logged In     Justin      M   \n",
      "24                             Dropkick Murphys   Logged In     Eliana      F   \n",
      "25                                         None  Logged Out       None   None   \n",
      "26                              Milczenie Owiec   Logged In    Micheal      M   \n",
      "27                                   Jonny Lang   Logged In    Lillian      F   \n",
      "28                             Nicole C. Mullen   Logged In     Connor      M   \n",
      "29                                   The Police   Logged In      Mason      M   \n",
      "...                                         ...         ...        ...    ...   \n",
      "9970                               Matthew Dear   Logged In    Zachary      M   \n",
      "9971                       Kanye West / Mos Def   Logged In        Ava      F   \n",
      "9972                              Iron And Wine   Logged In     Landan      M   \n",
      "9973                               James Taylor   Logged In    Gillian      F   \n",
      "9974                                       Muse   Logged In      Jesus      M   \n",
      "9975                              Justin Bieber   Logged In      Oscar      M   \n",
      "9976                       Ghost in the Machine   Logged In     Oakley      F   \n",
      "9977                              The Lettermen   Logged In     Olivia      F   \n",
      "9978                               Yann Tiersen   Logged In    Jazlean      F   \n",
      "9979                               The Van Jets   Logged In     Landan      M   \n",
      "9980                               Marc Anthony   Logged In    Gillian      F   \n",
      "9981                               Taylor Swift   Logged In    Zachary      M   \n",
      "9982                        My Chemical Romance   Logged In       Carl      M   \n",
      "9983                          Alanis Morissette   Logged In    Jazlean      F   \n",
      "9984                            Milczenie Owiec   Logged In     Judson      M   \n",
      "9985                      Maher Shahal Hash Baz   Logged In    Abegail      F   \n",
      "9986                                      B.o.B   Logged In    Abegail      F   \n",
      "9987                                   The Ruts   Logged In     Payton      F   \n",
      "9988                                       None   Logged In       Nino      M   \n",
      "9989                                Black Alien   Logged In     Olivia      F   \n",
      "9990                              Kings Of Leon   Logged In        Ava      F   \n",
      "9991                                       None   Logged In   Carlisle      F   \n",
      "9992                                     Vonray   Logged In      Oscar      M   \n",
      "9993                                 Karsh Kale   Logged In     Landan      M   \n",
      "9994                                  Radiohead   Logged In       Carl      M   \n",
      "9995                               Donald Fagen   Logged In      Cesar      M   \n",
      "9996                           Gym Class Heroes   Logged In     Judson      M   \n",
      "9997                            Black Eyed Peas   Logged In    Zachary      M   \n",
      "9998                                      LMFAO   Logged In     Oakley      F   \n",
      "9999                               Led Zeppelin   Logged In    Jazlean      F   \n",
      "\n",
      "      itemInSession   lastName     length level  \\\n",
      "0               112   Matthews  232.93342  paid   \n",
      "1                 7      Chase  195.23873  free   \n",
      "2                 6  Blackwell  196.20526  paid   \n",
      "3                 8     Barker  405.99465  paid   \n",
      "4                 0      Jones        NaN  free   \n",
      "5                 1      Jones        NaN  free   \n",
      "6                 0     Hunter  154.53995  free   \n",
      "7                 2       Koch  402.93832  paid   \n",
      "8                 2     Thomas        NaN  paid   \n",
      "9                 0      Short        NaN  free   \n",
      "10               23     Morgan  223.26812  paid   \n",
      "11                3     Thomas  237.11302  paid   \n",
      "12               82      Jones  218.01751  paid   \n",
      "13               28     Wright  237.13914  paid   \n",
      "14                3       Lane  191.68608  free   \n",
      "15                7  Blackwell  383.58159  paid   \n",
      "16               83      Jones        NaN  paid   \n",
      "17                0     Newman  348.57751  free   \n",
      "18                1      Short  146.36363  free   \n",
      "19                4   Davidson  238.18404  paid   \n",
      "20              113   Matthews  206.00118  paid   \n",
      "21                1     Hunter  241.42322  free   \n",
      "22                1  Rodriguez  401.78893  free   \n",
      "23               84      Jones        NaN  paid   \n",
      "24                1     Thomas  159.76444  paid   \n",
      "25                0       None        NaN  free   \n",
      "26               24     Morgan  219.29751  paid   \n",
      "27                2       Ryan  226.27220  free   \n",
      "28               18  Gillespie  282.90567  paid   \n",
      "29                4     Thomas  289.22730  paid   \n",
      "...             ...        ...        ...   ...   \n",
      "9970              3    Bennett  190.27546  paid   \n",
      "9971              6     Walker  313.28608  paid   \n",
      "9972             60   Thompson  153.05098  paid   \n",
      "9973              3   Gonzalez  120.97261  paid   \n",
      "9974              1     Greene  297.01179  free   \n",
      "9975             67   Stafford  222.92853  paid   \n",
      "9976              0      Baker  285.23057  free   \n",
      "9977             22    Hoffman  159.42485  paid   \n",
      "9978             39    Watkins   47.56853  paid   \n",
      "9979             61   Thompson  210.70322  paid   \n",
      "9980              4   Gonzalez  305.03138  paid   \n",
      "9981              4    Bennett  245.36771  paid   \n",
      "9982             22     Thomas  195.52608  paid   \n",
      "9983             40    Watkins  267.25832  paid   \n",
      "9984             10        Kim  219.29751  paid   \n",
      "9985             14     Wright   18.85995  paid   \n",
      "9986             15     Wright  269.63546  paid   \n",
      "9987             89     Orozco  338.96444  paid   \n",
      "9988              0   Phillips        NaN  free   \n",
      "9989             23    Hoffman  240.32608  paid   \n",
      "9990              7     Walker  201.79546  paid   \n",
      "9991              0       Long        NaN  paid   \n",
      "9992             68   Stafford  218.77506  paid   \n",
      "9993             62   Thompson  311.66649  paid   \n",
      "9994             23     Thomas  231.91465  paid   \n",
      "9995              0    Johnson  381.09995  paid   \n",
      "9996             11        Kim  233.45587  paid   \n",
      "9997              5    Bennett  289.12281  paid   \n",
      "9998              1      Baker  183.74485  free   \n",
      "9999             41    Watkins  190.40608  paid   \n",
      "\n",
      "                                           location method      page  \\\n",
      "0                 Charlotte-Concord-Gastonia, NC-SC    PUT  NextSong   \n",
      "1                       Shreveport-Bossier City, LA    PUT  NextSong   \n",
      "2                                        Racine, WI    PUT  NextSong   \n",
      "3     San Luis Obispo-Paso Robles-Arroyo Grande, CA    PUT  NextSong   \n",
      "4                                      Syracuse, NY    GET      Home   \n",
      "5                                      Syracuse, NY    GET  Settings   \n",
      "6                                     Brownwood, TX    PUT  NextSong   \n",
      "7                                   Panama City, FL    PUT  NextSong   \n",
      "8                  Indianapolis-Carmel-Anderson, IN    GET      Home   \n",
      "9                                     Green Bay, WI    GET      Home   \n",
      "10                                     Sterling, CO    PUT  NextSong   \n",
      "11                 Indianapolis-Carmel-Anderson, IN    PUT  NextSong   \n",
      "12                                       Dayton, TN    PUT  NextSong   \n",
      "13               Chicago-Naperville-Elgin, IL-IN-WI    PUT  NextSong   \n",
      "14                                  Sioux Falls, SD    PUT  NextSong   \n",
      "15                                       Racine, WI    PUT  NextSong   \n",
      "16                                       Dayton, TN    GET      Home   \n",
      "17                   Boston-Cambridge-Newton, MA-NH    PUT  NextSong   \n",
      "18                                    Green Bay, WI    PUT  NextSong   \n",
      "19                         Lansing-East Lansing, MI    PUT  NextSong   \n",
      "20                Charlotte-Concord-Gastonia, NC-SC    PUT  NextSong   \n",
      "21                                    Brownwood, TX    PUT  NextSong   \n",
      "22                                     Freeport, IL    PUT  NextSong   \n",
      "23                                       Dayton, TN    GET  Settings   \n",
      "24                                    Knoxville, TN    PUT  NextSong   \n",
      "25                                             None    PUT     Login   \n",
      "26                                     Sterling, CO    PUT  NextSong   \n",
      "27                Charlotte-Concord-Gastonia, NC-SC    PUT  NextSong   \n",
      "28                       Santa Cruz-Watsonville, CA    PUT  NextSong   \n",
      "29                 Indianapolis-Carmel-Anderson, IN    PUT  NextSong   \n",
      "...                                             ...    ...       ...   \n",
      "9970                              Winston-Salem, NC    PUT  NextSong   \n",
      "9971                                Springfield, MO    PUT  NextSong   \n",
      "9972                     Denver-Aurora-Lakewood, CO    PUT  NextSong   \n",
      "9973               Indianapolis-Carmel-Anderson, IN    PUT  NextSong   \n",
      "9974                                    Sebring, FL    PUT  NextSong   \n",
      "9975          New York-Newark-Jersey City, NY-NJ-PA    PUT  NextSong   \n",
      "9976           Scranton--Wilkes-Barre--Hazleton, PA    PUT  NextSong   \n",
      "9977                    Detroit-Warren-Dearborn, MI    PUT  NextSong   \n",
      "9978   Washington-Arlington-Alexandria, DC-VA-MD-WV    PUT  NextSong   \n",
      "9979                     Denver-Aurora-Lakewood, CO    PUT  NextSong   \n",
      "9980               Indianapolis-Carmel-Anderson, IN    PUT  NextSong   \n",
      "9981                              Winston-Salem, NC    PUT  NextSong   \n",
      "9982             Chicago-Naperville-Elgin, IL-IN-WI    PUT  NextSong   \n",
      "9983   Washington-Arlington-Alexandria, DC-VA-MD-WV    PUT  NextSong   \n",
      "9984                               Worcester, MA-CT    PUT  NextSong   \n",
      "9985                           Champaign-Urbana, IL    PUT  NextSong   \n",
      "9986                           Champaign-Urbana, IL    PUT  NextSong   \n",
      "9987           Houston-The Woodlands-Sugar Land, TX    PUT  NextSong   \n",
      "9988          New York-Newark-Jersey City, NY-NJ-PA    GET      Home   \n",
      "9989                    Detroit-Warren-Dearborn, MI    PUT  NextSong   \n",
      "9990                                Springfield, MO    PUT  NextSong   \n",
      "9991                                    Trenton, NJ    GET      Home   \n",
      "9992          New York-Newark-Jersey City, NY-NJ-PA    PUT  NextSong   \n",
      "9993                     Denver-Aurora-Lakewood, CO    PUT  NextSong   \n",
      "9994             Chicago-Naperville-Elgin, IL-IN-WI    PUT  NextSong   \n",
      "9995                  San Antonio-New Braunfels, TX    PUT  NextSong   \n",
      "9996                               Worcester, MA-CT    PUT  NextSong   \n",
      "9997                              Winston-Salem, NC    PUT  NextSong   \n",
      "9998           Scranton--Wilkes-Barre--Hazleton, PA    PUT  NextSong   \n",
      "9999   Washington-Arlington-Alexandria, DC-VA-MD-WV    PUT  NextSong   \n",
      "\n",
      "      registration  sessionId  \\\n",
      "0     1.509380e+12       5132   \n",
      "1     1.512719e+12       5027   \n",
      "2     1.499856e+12       5516   \n",
      "3     1.513010e+12       2372   \n",
      "4     1.513649e+12       1746   \n",
      "5     1.513649e+12       1746   \n",
      "6     1.498414e+12       4406   \n",
      "7     1.505820e+12       1060   \n",
      "8     1.487016e+12       5661   \n",
      "9     1.513594e+12       3689   \n",
      "10    1.485051e+12       5175   \n",
      "11    1.487016e+12       5661   \n",
      "12    1.504707e+12       1175   \n",
      "13    1.512172e+12       2163   \n",
      "14    1.510109e+12       5272   \n",
      "15    1.499856e+12       5516   \n",
      "16    1.504707e+12       1175   \n",
      "17    1.513494e+12       2903   \n",
      "18    1.513594e+12       3689   \n",
      "19    1.513173e+12       4591   \n",
      "20    1.509380e+12       5132   \n",
      "21    1.498414e+12       4406   \n",
      "22    1.513668e+12       2941   \n",
      "23    1.504707e+12       1175   \n",
      "24    1.511496e+12       4686   \n",
      "25             NaN       5598   \n",
      "26    1.485051e+12       5175   \n",
      "27    1.510763e+12       4641   \n",
      "28    1.506639e+12       5698   \n",
      "29    1.487016e+12       5661   \n",
      "...            ...        ...   \n",
      "9970  1.511134e+12       1350   \n",
      "9971  1.498733e+12       5679   \n",
      "9972  1.507118e+12       7006   \n",
      "9973  1.493060e+12       6754   \n",
      "9974  1.513517e+12       6924   \n",
      "9975  1.511648e+12       5431   \n",
      "9976  1.510535e+12       7014   \n",
      "9977  1.502414e+12       4809   \n",
      "9978  1.501481e+12       4421   \n",
      "9979  1.507118e+12       7006   \n",
      "9980  1.493060e+12       6754   \n",
      "9981  1.511134e+12       1350   \n",
      "9982  1.505261e+12       4735   \n",
      "9983  1.501481e+12       4421   \n",
      "9984  1.510668e+12       7116   \n",
      "9985  1.491414e+12       5576   \n",
      "9986  1.491414e+12       5576   \n",
      "9987  1.485261e+12       1775   \n",
      "9988  1.495751e+12        360   \n",
      "9989  1.502414e+12       4809   \n",
      "9990  1.498733e+12       5679   \n",
      "9991  1.504984e+12       7144   \n",
      "9992  1.511648e+12       5431   \n",
      "9993  1.507118e+12       7006   \n",
      "9994  1.505261e+12       4735   \n",
      "9995  1.513432e+12       6789   \n",
      "9996  1.510668e+12       7116   \n",
      "9997  1.511134e+12       1350   \n",
      "9998  1.510535e+12       7014   \n",
      "9999  1.501481e+12       4421   \n",
      "\n",
      "                                                   song  status  \\\n",
      "0                             Christmas Tears Will Fall     200   \n",
      "1                                         Cheryl Tweedy     200   \n",
      "2     Good Girls Go Bad (Feat.Leighton Meester) (Alb...     200   \n",
      "3                                   Don't See The Point     200   \n",
      "4                                                  None     200   \n",
      "5                                                  None     200   \n",
      "6                                          Smoke Buddah     200   \n",
      "7                                             On My Own     200   \n",
      "8                                                  None     200   \n",
      "9                                                  None     200   \n",
      "10                    Heart Of The City (Ain't No Love)     200   \n",
      "11                                     Bring Me To Life     200   \n",
      "12                                                Laura     200   \n",
      "13                                     Here Without You     200   \n",
      "14             This Old House w/ When The Saints Medley     200   \n",
      "15                                 Follow Me (Club Mix)     200   \n",
      "16                                                 None     200   \n",
      "17                                                 Undo     200   \n",
      "18                                 Sheebeg And Sheemore     200   \n",
      "19                             Far Away (Album Version)     200   \n",
      "20                                   Be Wary Of A Woman     200   \n",
      "21    I'd Hate To Be You When People Find Out What T...     200   \n",
      "22                                        Oh Jungleland     200   \n",
      "23                                                 None     200   \n",
      "24                              Captain Kelly's Kitchen     200   \n",
      "25                                                 None     307   \n",
      "26                                              CIEÃÂ     200   \n",
      "27                                            Red Light     200   \n",
      "28                             Without You (LP Version)     200   \n",
      "29                                  Message In A Bottle     200   \n",
      "...                                                 ...     ...   \n",
      "9970                                      Neighborhoods     200   \n",
      "9971                                Drunk and Hot Girls     200   \n",
      "9972                                    Naked As We Can     200   \n",
      "9973                          Oh_ Susannah (LP Version)     200   \n",
      "9974                                 Stockholm Syndrome     200   \n",
      "9975                                Stuck In The Moment     200   \n",
      "9976                                          Lady Love     200   \n",
      "9977                       Put Your Head On My Shoulder     200   \n",
      "9978                                             Dishes     200   \n",
      "9979                                            Matador     200   \n",
      "9980                                Hasta Que Te Conoci     200   \n",
      "9981                                The Way I Loved You     200   \n",
      "9982                              Dead! (Album Version)     200   \n",
      "9983                     Head Over Feet (Album Version)     200   \n",
      "9984                                            CIEÃÂ     200   \n",
      "9985                                          Iyomanzai     200   \n",
      "9986  Nothin' On You [feat. Bruno Mars] (Album Version)     200   \n",
      "9987                             West One (Shine On Me)     200   \n",
      "9988                                               None     200   \n",
      "9989                                From Hell Do CÃÂ©u     200   \n",
      "9990                                            Revelry     200   \n",
      "9991                                               None     200   \n",
      "9992                            Inside Out (LP Version)     200   \n",
      "9993                                          Free Fall     200   \n",
      "9994                                       (Nice Dream)     200   \n",
      "9995                       New Frontier (Album Version)     200   \n",
      "9996                 Viva La White Girl (Album Version)     200   \n",
      "9997                                    I Gotta Feeling     200   \n",
      "9998                                                Yes     200   \n",
      "9999                         Tangerine  (Album Version)     200   \n",
      "\n",
      "                 ts                                          userAgent userId  \n",
      "0     1513720872284  \"Mozilla/5.0 (Windows NT 6.1) AppleWebKit/537....   1046  \n",
      "1     1513720878284  \"Mozilla/5.0 (Windows NT 6.1) AppleWebKit/537....   1000  \n",
      "2     1513720881284  \"Mozilla/5.0 (Macintosh; Intel Mac OS X 10_9_4...   2219  \n",
      "3     1513720905284  \"Mozilla/5.0 (Windows NT 6.1; WOW64) AppleWebK...   2373  \n",
      "4     1513720913284  \"Mozilla/5.0 (Macintosh; Intel Mac OS X 10_9_4...   1747  \n",
      "5     1513720932284  \"Mozilla/5.0 (Macintosh; Intel Mac OS X 10_9_4...   1747  \n",
      "6     1513720955284  \"Mozilla/5.0 (Macintosh; Intel Mac OS X 10_9_4...   1162  \n",
      "7     1513720959284  Mozilla/5.0 (Windows NT 6.1; WOW64; rv:32.0) G...   1061  \n",
      "8     1513720959284  Mozilla/5.0 (compatible; MSIE 10.0; Windows NT...    748  \n",
      "9     1513720980284  \"Mozilla/5.0 (Windows NT 6.1; WOW64) AppleWebK...    597  \n",
      "10    1513720983284  \"Mozilla/5.0 (Windows NT 6.1; WOW64) AppleWebK...   1806  \n",
      "11    1513720993284  Mozilla/5.0 (compatible; MSIE 10.0; Windows NT...    748  \n",
      "12    1513721031284  \"Mozilla/5.0 (Windows NT 6.1; WOW64) AppleWebK...   1176  \n",
      "13    1513721045284  \"Mozilla/5.0 (Macintosh; Intel Mac OS X 10_9_4...   2164  \n",
      "14    1513721058284  Mozilla/5.0 (Windows NT 6.2; WOW64; rv:31.0) G...   2146  \n",
      "15    1513721077284  \"Mozilla/5.0 (Macintosh; Intel Mac OS X 10_9_4...   2219  \n",
      "16    1513721088284  \"Mozilla/5.0 (Windows NT 6.1; WOW64) AppleWebK...   1176  \n",
      "17    1513721095284  Mozilla/5.0 (Windows NT 6.1; WOW64; rv:31.0) G...   2904  \n",
      "18    1513721097284  \"Mozilla/5.0 (Windows NT 6.1; WOW64) AppleWebK...    597  \n",
      "19    1513721104284  \"Mozilla/5.0 (Macintosh; Intel Mac OS X 10_9_4...    226  \n",
      "20    1513721104284  \"Mozilla/5.0 (Windows NT 6.1) AppleWebKit/537....   1046  \n",
      "21    1513721109284  \"Mozilla/5.0 (Macintosh; Intel Mac OS X 10_9_4...   1162  \n",
      "22    1513721127284  \"Mozilla/5.0 (Macintosh; Intel Mac OS X 10_9_4...   2942  \n",
      "23    1513721160284  \"Mozilla/5.0 (Windows NT 6.1; WOW64) AppleWebK...   1176  \n",
      "24    1513721182284  \"Mozilla/5.0 (Windows NT 6.1) AppleWebKit/537....   2779  \n",
      "25    1513721196284                                               None         \n",
      "26    1513721206284  \"Mozilla/5.0 (Windows NT 6.1; WOW64) AppleWebK...   1806  \n",
      "27    1513721207284  \"Mozilla/5.0 (Macintosh; Intel Mac OS X 10_9_4...   2887  \n",
      "28    1513721214284  \"Mozilla/5.0 (Windows NT 6.1) AppleWebKit/537....   1035  \n",
      "29    1513721230284  Mozilla/5.0 (compatible; MSIE 10.0; Windows NT...    748  \n",
      "...             ...                                                ...    ...  \n",
      "9970  1513847870284  Mozilla/5.0 (Windows NT 6.1; WOW64; rv:31.0) G...   1351  \n",
      "9971  1513847881284  \"Mozilla/5.0 (Windows NT 6.1; WOW64) AppleWebK...   1915  \n",
      "9972  1513847892284  \"Mozilla/5.0 (Macintosh; Intel Mac OS X 10_9_4...    649  \n",
      "9973  1513847928284  \"Mozilla/5.0 (Macintosh; Intel Mac OS X 10_9_4...    888  \n",
      "9974  1513847964284  \"Mozilla/5.0 (Macintosh; Intel Mac OS X 10_9_4...   1678  \n",
      "9975  1513848009284  Mozilla/5.0 (Macintosh; Intel Mac OS X 10.6; r...   1107  \n",
      "9976  1513848031284  \"Mozilla/5.0 (Macintosh; Intel Mac OS X 10_9_4...    480  \n",
      "9977  1513848034284  Mozilla/5.0 (Macintosh; Intel Mac OS X 10.9; r...   1430  \n",
      "9978  1513848035284  Mozilla/5.0 (Windows NT 6.1; Trident/7.0; rv:1...   1881  \n",
      "9979  1513848045284  \"Mozilla/5.0 (Macintosh; Intel Mac OS X 10_9_4...    649  \n",
      "9980  1513848048284  \"Mozilla/5.0 (Macintosh; Intel Mac OS X 10_9_4...    888  \n",
      "9981  1513848060284  Mozilla/5.0 (Windows NT 6.1; WOW64; rv:31.0) G...   1351  \n",
      "9982  1513848061284  Mozilla/5.0 (Macintosh; Intel Mac OS X 10.9; r...   1779  \n",
      "9983  1513848082284  Mozilla/5.0 (Windows NT 6.1; Trident/7.0; rv:1...   1881  \n",
      "9984  1513848084284  \"Mozilla/5.0 (Windows NT 6.1; WOW64) AppleWebK...   1103  \n",
      "9985  1513848092284  Mozilla/5.0 (Macintosh; Intel Mac OS X 10.6; r...    974  \n",
      "9986  1513848110284  Mozilla/5.0 (Macintosh; Intel Mac OS X 10.6; r...    974  \n",
      "9987  1513848148284  \"Mozilla/5.0 (Windows NT 6.1; WOW64) AppleWebK...   1776  \n",
      "9988  1513848173284  \"Mozilla/5.0 (iPhone; CPU iPhone OS 7_1_2 like...    361  \n",
      "9989  1513848193284  Mozilla/5.0 (Macintosh; Intel Mac OS X 10.9; r...   1430  \n",
      "9990  1513848194284  \"Mozilla/5.0 (Windows NT 6.1; WOW64) AppleWebK...   1915  \n",
      "9991  1513848222284  Mozilla/5.0 (Windows NT 6.3; WOW64; rv:31.0) G...   2481  \n",
      "9992  1513848231284  Mozilla/5.0 (Macintosh; Intel Mac OS X 10.6; r...   1107  \n",
      "9993  1513848255284  \"Mozilla/5.0 (Macintosh; Intel Mac OS X 10_9_4...    649  \n",
      "9994  1513848256284  Mozilla/5.0 (Macintosh; Intel Mac OS X 10.9; r...   1779  \n",
      "9995  1513848289284  \"Mozilla/5.0 (Windows NT 6.3; WOW64) AppleWebK...    429  \n",
      "9996  1513848303284  \"Mozilla/5.0 (Windows NT 6.1; WOW64) AppleWebK...   1103  \n",
      "9997  1513848305284  Mozilla/5.0 (Windows NT 6.1; WOW64; rv:31.0) G...   1351  \n",
      "9998  1513848316284  \"Mozilla/5.0 (Macintosh; Intel Mac OS X 10_9_4...    480  \n",
      "9999  1513848349284  Mozilla/5.0 (Windows NT 6.1; Trident/7.0; rv:1...   1881  \n",
      "\n",
      "[10000 rows x 18 columns]\n",
      "<class 'pandas.core.frame.DataFrame'>\n"
     ]
    }
   ],
   "source": [
    "#user_log.write.save(out_path, format=\"csv\", header=True)\n",
    "#user_log.to_csvout_path, header=True)\n",
    "pandas_df = user_log.toPandas()\n",
    "print(pandas_df)\n",
    "print(type(pandas_df))\n",
    "pandas_df.to_csv(out_path,header=True)"
   ]
  },
  {
   "cell_type": "code",
   "execution_count": 13,
   "metadata": {},
   "outputs": [],
   "source": [
    "user_log_2 = spark.read.csv(out_path, header=True)"
   ]
  },
  {
   "cell_type": "code",
   "execution_count": 14,
   "metadata": {},
   "outputs": [
    {
     "name": "stdout",
     "output_type": "stream",
     "text": [
      "root\n",
      " |-- _c0: string (nullable = true)\n",
      " |-- artist: string (nullable = true)\n",
      " |-- auth: string (nullable = true)\n",
      " |-- firstName: string (nullable = true)\n",
      " |-- gender: string (nullable = true)\n",
      " |-- itemInSession: string (nullable = true)\n",
      " |-- lastName: string (nullable = true)\n",
      " |-- length: string (nullable = true)\n",
      " |-- level: string (nullable = true)\n",
      " |-- location: string (nullable = true)\n",
      " |-- method: string (nullable = true)\n",
      " |-- page: string (nullable = true)\n",
      " |-- registration: string (nullable = true)\n",
      " |-- sessionId: string (nullable = true)\n",
      " |-- song: string (nullable = true)\n",
      " |-- status: string (nullable = true)\n",
      " |-- ts: string (nullable = true)\n",
      " |-- userAgent: string (nullable = true)\n",
      " |-- userId: string (nullable = true)\n",
      "\n"
     ]
    }
   ],
   "source": [
    "user_log_2.printSchema()"
   ]
  },
  {
   "cell_type": "code",
   "execution_count": 15,
   "metadata": {},
   "outputs": [
    {
     "data": {
      "text/plain": [
       "[Row(_c0='0', artist='Showaddywaddy', auth='Logged In', firstName='Kenneth', gender='M', itemInSession='112', lastName='Matthews', length='232.93342', level='paid', location='Charlotte-Concord-Gastonia, NC-SC', method='PUT', page='NextSong', registration='1509380319284.0', sessionId='5132', song='Christmas Tears Will Fall', status='200', ts='1513720872284', userAgent='\"\"\"Mozilla/5.0 (Windows NT 6.1) AppleWebKit/537.36 (KHTML', userId=' like Gecko) Chrome/36.0.1985.125 Safari/537.36\"\"\"'),\n",
       " Row(_c0='1', artist='Lily Allen', auth='Logged In', firstName='Elizabeth', gender='F', itemInSession='7', lastName='Chase', length='195.23873', level='free', location='Shreveport-Bossier City, LA', method='PUT', page='NextSong', registration='1512718541284.0', sessionId='5027', song='Cheryl Tweedy', status='200', ts='1513720878284', userAgent='\"\"\"Mozilla/5.0 (Windows NT 6.1) AppleWebKit/537.36 (KHTML', userId=' like Gecko) Chrome/36.0.1985.143 Safari/537.36\"\"\"')]"
      ]
     },
     "execution_count": 15,
     "metadata": {},
     "output_type": "execute_result"
    }
   ],
   "source": [
    "user_log_2.take(2)"
   ]
  },
  {
   "cell_type": "code",
   "execution_count": 16,
   "metadata": {},
   "outputs": [
    {
     "name": "stdout",
     "output_type": "stream",
     "text": [
      "+--------------------+\n",
      "|              userID|\n",
      "+--------------------+\n",
      "| like Gecko) Chro...|\n",
      "| like Gecko) Chro...|\n",
      "| like Gecko) Vers...|\n",
      "| like Gecko) Chro...|\n",
      "| like Gecko) Chro...|\n",
      "| like Gecko) Chro...|\n",
      "| like Gecko) Chro...|\n",
      "|                1061|\n",
      "|                 748|\n",
      "| like Gecko) Chro...|\n",
      "| like Gecko) Chro...|\n",
      "|                 748|\n",
      "| like Gecko) Chro...|\n",
      "| like Gecko) Chro...|\n",
      "|                2146|\n",
      "| like Gecko) Vers...|\n",
      "| like Gecko) Chro...|\n",
      "|                2904|\n",
      "| like Gecko) Chro...|\n",
      "| like Gecko) Vers...|\n",
      "+--------------------+\n",
      "only showing top 20 rows\n",
      "\n"
     ]
    }
   ],
   "source": [
    "user_log_2.select(\"userID\").show()"
   ]
  },
  {
   "cell_type": "code",
   "execution_count": 17,
   "metadata": {},
   "outputs": [
    {
     "data": {
      "text/plain": [
       "[Row(_c0='0', artist='Showaddywaddy', auth='Logged In', firstName='Kenneth', gender='M', itemInSession='112', lastName='Matthews', length='232.93342', level='paid', location='Charlotte-Concord-Gastonia, NC-SC', method='PUT', page='NextSong', registration='1509380319284.0', sessionId='5132', song='Christmas Tears Will Fall', status='200', ts='1513720872284', userAgent='\"\"\"Mozilla/5.0 (Windows NT 6.1) AppleWebKit/537.36 (KHTML', userId=' like Gecko) Chrome/36.0.1985.125 Safari/537.36\"\"\"')]"
      ]
     },
     "execution_count": 17,
     "metadata": {},
     "output_type": "execute_result"
    }
   ],
   "source": [
    "user_log_2.take(1)"
   ]
  }
 ],
 "metadata": {
  "kernelspec": {
   "display_name": "Python 3",
   "language": "python",
   "name": "python3"
  },
  "language_info": {
   "codemirror_mode": {
    "name": "ipython",
    "version": 3
   },
   "file_extension": ".py",
   "mimetype": "text/x-python",
   "name": "python",
   "nbconvert_exporter": "python",
   "pygments_lexer": "ipython3",
   "version": "3.7.1"
  }
 },
 "nbformat": 4,
 "nbformat_minor": 1
}
